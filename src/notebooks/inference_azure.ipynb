{
 "cells": [
  {
   "cell_type": "code",
   "execution_count": null,
   "id": "e257a220",
   "metadata": {},
   "outputs": [],
   "source": [
    "https://stockmodels.blob.core.windows.net/rf-models/AAL_rf.joblib"
   ]
  }
 ],
 "metadata": {
  "language_info": {
   "name": "python"
  }
 },
 "nbformat": 4,
 "nbformat_minor": 5
}
